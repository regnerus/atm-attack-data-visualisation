{
 "cells": [
  {
   "cell_type": "code",
   "execution_count": 17,
   "metadata": {
    "collapsed": true
   },
   "outputs": [],
   "source": [
    "# The following line makes sure that when we plot stuff it shows up in the notebook\n",
    "%matplotlib inline \n",
    "\n",
    "import csv\n",
    "import numpy as np\n",
    "import itertools\n",
    "import math\n",
    "\n",
    "import matplotlib.pyplot as plt\n",
    "from mpl_toolkits.mplot3d import Axes3D\n",
    "\n",
    "from sklearn import svm\n",
    "from sklearn import decomposition\n",
    "from sklearn import datasets\n",
    "from sklearn.model_selection import train_test_split\n",
    "from sklearn.metrics import classification_report, confusion_matrix, accuracy_score\n",
    "from sklearn.naive_bayes import MultinomialNB\n",
    "from sklearn.linear_model import SGDClassifier\n",
    "from sklearn.linear_model import LogisticRegression\n",
    "from sklearn.preprocessing import StandardScaler\n",
    "from sklearn.metrics import roc_curve, auc"
   ]
  },
  {
   "cell_type": "code",
   "execution_count": 2,
   "metadata": {
    "collapsed": false
   },
   "outputs": [
    {
     "name": "stdout",
     "output_type": "stream",
     "text": [
      "Number of banks: 723\n"
     ]
    }
   ],
   "source": [
    "datafile = open(\"data.csv\")\n",
    "datareader = csv.DictReader(datafile)\n",
    "\n",
    "banks = {}\n",
    "bankpropertykeys = [\"MWay_Dist\", \"Police_Dis\", \"N_UNP_RATE\", \"N_AGE\", \"N_INCOME\", \"N_DENSITY\", \"N_COM_DENS\", \"NUMBER\"]\n",
    "itt = 0\n",
    "for row in datareader:\n",
    "    #itt = itt+1\n",
    "    id = row['ATM_ID']\n",
    "    #id = itt\n",
    "\n",
    "    banks[id] = row\n",
    "\n",
    "# print banks.keys()\n",
    "print \"Number of banks:\", len(banks)"
   ]
  },
  {
   "cell_type": "code",
   "execution_count": 25,
   "metadata": {
    "collapsed": true
   },
   "outputs": [],
   "source": [
    "Y = []\n",
    "X = []\n",
    "for key, value in banks.items():\n",
    "    Y.append(str(value['N_FREQ_ATTACK']))\n",
    "    features = [value[x] for x in bankpropertykeys]\n",
    "    X.append(features)\n",
    "\n",
    "X = np.matrix(X).astype(np.float)\n",
    "\n",
    "Y = np.array(Y)\n",
    "X_train, X_test, y_train, y_test = train_test_split(X, Y, test_size=0.25, random_state=42)\n",
    "\n",
    "\n",
    "clf = MultinomialNB()\n",
    "clf.fit(X_train, y_train)\n",
    "\n",
    "y_predict=[]\n",
    "for x in X_test:\n",
    "    y_predict.append(clf.predict(x)[0])"
   ]
  },
  {
   "cell_type": "code",
   "execution_count": 26,
   "metadata": {
    "collapsed": false
   },
   "outputs": [
    {
     "name": "stdout",
     "output_type": "stream",
     "text": [
      "Accuracy on test data: 0.92817679558\n",
      "Classification Report\n",
      "              precision    recall  f1-score   support\n",
      "\n",
      "Not Attacked       1.00      0.92      0.96       162\n",
      "    Attacked       0.59      1.00      0.75        19\n",
      "\n",
      " avg / total       0.96      0.93      0.94       181\n",
      "\n"
     ]
    },
    {
     "data": {
      "image/png": "[encoded data removed]",
      "text/plain": [
       "<matplotlib.figure.Figure at 0x7fe144a2c190>"
      ]
     },
     "metadata": {},
     "output_type": "display_data"
    }
   ],
   "source": [
    "def plot_confusion_matrix(cm, class_labels, normalize=False, title='Confusion matrix', cmap=plt.cm.Blues):\n",
    "    plt.imshow(cm, interpolation='nearest', cmap=cmap)\n",
    "    plt.title(title)\n",
    "    plt.colorbar()\n",
    "    tick_marks = np.arange(len(class_labels))\n",
    "    plt.xticks(tick_marks, class_labels, rotation=45)\n",
    "    plt.yticks(tick_marks, class_labels)\n",
    "\n",
    "    if normalize:\n",
    "        cm = cm.astype('float') / cm.sum(axis=1)[:, np.newaxis]\n",
    "\n",
    "    thresh = cm.max() / 2.\n",
    "    for i, j in itertools.product(range(cm.shape[0]), range(cm.shape[1])):\n",
    "        plt.text(j, i, cm[i, j],\n",
    "                 horizontalalignment=\"center\",\n",
    "                 color=\"white\" if cm[i, j] > thresh else \"black\")\n",
    "\n",
    "    plt.tight_layout()\n",
    "    plt.ylabel('True label')\n",
    "    plt.xlabel('Predicted label')\n",
    "    \n",
    "class_labels = ['Not Attacked', 'Attacked']\n",
    "\n",
    "print 'Accuracy on test data:', accuracy_score(y_test, y_predict)\n",
    "\n",
    "print 'Classification Report'\n",
    "print classification_report(y_test, y_predict, target_names = class_labels)\n",
    "\n",
    "# Compute confusion matrix\n",
    "cnf_matrix = confusion_matrix(y_test, y_predict)\n",
    "np.set_printoptions(precision=2)\n",
    "\n",
    "# Plot non-normalized confusion matrix\n",
    "plt.figure()\n",
    "plot_confusion_matrix(cnf_matrix, class_labels = class_labels, normalize=False, title='Confusion matrix')\n",
    "\n",
    "plt.show()"
   ]
  },
  {
   "cell_type": "code",
   "execution_count": 27,
   "metadata": {
    "collapsed": true
   },
   "outputs": [],
   "source": [
    "def featuresClassify(features,model):\n",
    "    f =  np.array([features[x] for x in bankpropertykeys]).astype(np.float)\n",
    "    f = f.reshape([1, f.size])\n",
    "    return model.predict_proba(f)\n",
    "\n",
    "def dataPointClassify(id,model):\n",
    "    f = np.array([banks.get(id)[x] for x in bankpropertykeys]).astype(np.float)\n",
    "    f = f.reshape([1, f.size])\n",
    "    return model.predict(f)\n",
    "\n",
    "def getProb(id, model):\n",
    "    f = np.array([banks.get(id)[x] for x in bankpropertykeys]).astype(np.float)\n",
    "    f = f.reshape([1, f.size])\n",
    "    #print(f.shape)\n",
    "    return model.predict_proba(f)\n",
    "\n",
    "def show_most_informative_features(feature_names, clf, n=20):\n",
    "    coefs_with_fns = sorted(zip(clf.coef_[0], feature_names))\n",
    "    top = zip(coefs_with_fns[:n], coefs_with_fns[:-(n + 1):-1])\n",
    "    for (coef_1, fn_1), (coef_2, fn_2) in top:\n",
    "#         prob_1 = math.pow(10, coef_1)\n",
    "#         prob_2 = math.pow(10, coef_2)\n",
    "        print \"\\t%.4f\\t%-15s\\t\\t%.4f\\t%-15s\" % (coef_1, fn_1, coef_2, fn_2)"
   ]
  },
  {
   "cell_type": "code",
   "execution_count": 43,
   "metadata": {
    "collapsed": false
   },
   "outputs": [
    {
     "name": "stdout",
     "output_type": "stream",
     "text": [
      "[[ 0.76  0.24]]\n",
      "Not Attacked Probability 0.7633\n",
      "Attacked Probability 0.2367\n",
      "[[  2.09e-153   1.00e+000]]\n",
      "Not Attacked Probability 0.0\n",
      "Attacked Probability 1.0\n",
      "[[  7.43e-212   1.00e+000]]\n",
      "Not Attacked Probability 0.0\n",
      "Attacked Probability 1.0\n",
      "[[ 1.  0.]]\n",
      "Not Attacked Probability 1.0\n",
      "Attacked Probability 0.0\n"
     ]
    }
   ],
   "source": [
    "\"\"\"Give probability for example ATM Attacks\"\"\"\n",
    "\n",
    "#base features\n",
    "features = {\n",
    "    \"MWay_Dist\": 1000,\n",
    "    \"Police_Dis\": 500,\n",
    "    \"N_UNP_RATE\": 2,\n",
    "    \"N_AGE\": 2,\n",
    "    \"N_INCOME\": 2,\n",
    "    \"N_DENSITY\": 2,\n",
    "    \"N_COM_DENS\": 2,\n",
    "    \"NUMBER\": 2\n",
    "}\n",
    "def printIt(features):\n",
    "    print featuresClassify(features,clf)\n",
    "    probabilities = np.around(featuresClassify(features,clf)[0], decimals=4)\n",
    "    print \"Not Attacked Probability\", probabilities[0]\n",
    "    print \"Attacked Probability\", probabilities[1]\n",
    "\n",
    "features1 = features.copy()\n",
    "features2 = features.copy()\n",
    "features3 = features.copy()\n",
    "features4 = features.copy()\n",
    "#discrimination features\n",
    "features1[\"Police_Dis\"] = 686\n",
    "features2[\"Police_Dis\"] = 1000\n",
    "features3[\"MWay_Dist\"] = 100\n",
    "features4[\"MWay_Dist\"] = 2000\n",
    "\n",
    "printIt(features1)\n",
    "printIt(features2)\n",
    "printIt(features3)\n",
    "printIt(features4)\n",
    "    \n",
    "    \n"
   ]
  },
  {
   "cell_type": "code",
   "execution_count": 21,
   "metadata": {
    "collapsed": false
   },
   "outputs": [
    {
     "name": "stdout",
     "output_type": "stream",
     "text": [
      "\t-7.2555\tNUMBER         \t\t-0.4678\tPolice_Dis     \n",
      "\t-6.6429\tN_AGE          \t\t-1.0099\tMWay_Dist      \n",
      "\t-6.6055\tN_COM_DENS     \t\t-5.8621\tN_INCOME       \n",
      "\t-6.5414\tN_DENSITY      \t\t-6.3765\tN_UNP_RATE     \n",
      "\t-6.3765\tN_UNP_RATE     \t\t-6.5414\tN_DENSITY      \n",
      "\t-5.8621\tN_INCOME       \t\t-6.6055\tN_COM_DENS     \n",
      "\t-1.0099\tMWay_Dist      \t\t-6.6429\tN_AGE          \n",
      "\t-0.4678\tPolice_Dis     \t\t-7.2555\tNUMBER         \n",
      "None\n"
     ]
    }
   ],
   "source": [
    "output = []\n",
    "for key, value in banks.items():\n",
    "    value['PROB_ATTACKED'] = getProb(key,clf)[0,1]\n",
    "    output.append(value)\n",
    "\n",
    "with open('results.csv', 'w') as csvfile:\n",
    "    fieldnames = list(output[0].keys())\n",
    "    writer = csv.DictWriter(csvfile, fieldnames=fieldnames)\n",
    "\n",
    "    writer.writeheader()\n",
    "    for row in output:\n",
    "        writer.writerow(row)\n",
    "\n",
    "print(show_most_informative_features(bankpropertykeys,clf))"
   ]
  },
  {
   "cell_type": "code",
   "execution_count": 22,
   "metadata": {
    "collapsed": false
   },
   "outputs": [
    {
     "name": "stdout",
     "output_type": "stream",
     "text": [
      "[[  9.89e-01  -1.46e-01   6.83e-05   8.23e-04  -8.60e-05  -2.08e-04\n",
      "    4.62e-04   9.45e-05]\n",
      " [  1.46e-01   9.89e-01  -3.07e-04  -5.79e-04   2.94e-04   9.95e-05\n",
      "   -3.79e-04  -1.86e-04]]\n",
      "[(-0.14582093668794807, 'Police_Dis'), (-0.00020812469776423773, 'N_DENSITY'), (-8.6038973162338222e-05, 'N_INCOME'), (6.8309282651752331e-05, 'N_UNP_RATE'), (9.454474896078725e-05, 'NUMBER'), (0.00046187057804581496, 'N_COM_DENS'), (0.00082271723262671329, 'N_AGE'), (0.98931051743722587, 'MWay_Dist')]\n",
      "[(-0.0005786169737560104, 'N_AGE'), (-0.00037926162005408413, 'N_COM_DENS'), (-0.00030715440879932623, 'N_UNP_RATE'), (-0.00018613324975825325, 'NUMBER'), (9.9467865358353336e-05, 'N_DENSITY'), (0.00029442738402642247, 'N_INCOME'), (0.14582168289414507, 'MWay_Dist'), (0.98931053395290525, 'Police_Dis')]\n"
     ]
    },
    {
     "data": {
      "image/png": "[encoded data removed]",
      "text/plain": [
       "<matplotlib.figure.Figure at 0x7fe144532090>"
      ]
     },
     "metadata": {},
     "output_type": "display_data"
    }
   ],
   "source": [
    "pca = decomposition.PCA(n_components=2)\n",
    "pca.fit(X_train)\n",
    "X = pca.transform(X_train)\n",
    "\n",
    "print pca.components_\n",
    "\n",
    "print sorted(zip(pca.components_[0], bankpropertykeys))\n",
    "\n",
    "print sorted(zip(pca.components_[1], bankpropertykeys))\n",
    "\n",
    "y_train = np.array(y_train.astype(np.int))\n",
    "\n",
    "x_min, x_max = X[:, 0].min() - 50, X[:, 0].max() + 50\n",
    "y_min, y_max = X[:, 1].min() - 50, X[:, 1].max() + 50\n",
    "color_map = {0: (0, 0, 1), 1: (1, 0, 0)}\n",
    "\n",
    "plt.figure(2, figsize=(8, 6))\n",
    "\n",
    "\n",
    "colors = [color_map[y] for y in y_train]\n",
    "plt.scatter(X[:, 0], X[:, 1], c=colors, cmap=plt.cm.Paired)\n",
    "plt.xlabel('1st eigenvector')\n",
    "plt.ylabel('2nd eigenvector')\n",
    "\n",
    "plt.xlim(x_min, x_max)\n",
    "plt.ylim(y_min, y_max)\n",
    "# plt.xticks(())\n",
    "# plt.yticks(())\n",
    "\n",
    "plt.show()"
   ]
  },
  {
   "cell_type": "code",
   "execution_count": null,
   "metadata": {
    "collapsed": true
   },
   "outputs": [],
   "source": []
  },
  {
   "cell_type": "code",
   "execution_count": null,
   "metadata": {
    "collapsed": true
   },
   "outputs": [],
   "source": []
  }
 ],
 "metadata": {
  "kernelspec": {
   "display_name": "Python 2",
   "language": "python",
   "name": "python2"
  },
  "language_info": {
   "codemirror_mode": {
    "name": "ipython",
    "version": 2
   },
   "file_extension": ".py",
   "mimetype": "text/x-python",
   "name": "python",
   "nbconvert_exporter": "python",
   "pygments_lexer": "ipython2",
   "version": "2.7.13"
  }
 },
 "nbformat": 4,
 "nbformat_minor": 2
}
