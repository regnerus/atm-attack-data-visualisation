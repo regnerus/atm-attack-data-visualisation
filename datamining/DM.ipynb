{
 "cells": [
  {
   "cell_type": "code",
   "execution_count": 6,
   "metadata": {
    "collapsed": true
   },
   "outputs": [],
   "source": [
    "# The following line makes sure that when we plot stuff it shows up in the notebook\n",
    "%matplotlib inline \n",
    "\n",
    "import csv\n",
    "import numpy as np\n",
    "import itertools\n",
    "import math\n",
    "\n",
    "import matplotlib.pyplot as plt\n",
    "\n",
    "from sklearn import svm\n",
    "from sklearn import decomposition\n",
    "from sklearn import datasets\n",
    "from sklearn.model_selection import train_test_split\n",
    "from sklearn.metrics import classification_report, confusion_matrix, accuracy_score\n",
    "from sklearn.naive_bayes import MultinomialNB\n",
    "from sklearn.preprocessing import StandardScaler"
   ]
  },
  {
   "cell_type": "code",
   "execution_count": 7,
   "metadata": {},
   "outputs": [
    {
     "name": "stdout",
     "output_type": "stream",
     "text": [
      "Number of banks: 723\n"
     ]
    }
   ],
   "source": [
    "datafile = open(\"data.csv\")\n",
    "datareader = csv.DictReader(datafile)\n",
    "\n",
    "banks = {}\n",
    "bankpropertykeys = [\"MWay_Dist\", \"NUMBER\", \"N_INCOME\", \"N_DENSITY\", \"N_AGE\",\n",
    "                    \"N_UNP_RATE\", \"N_COM_DENS\",\"Police_Dis\"]\n",
    "itt = 0\n",
    "for row in datareader:\n",
    "    #itt = itt+1\n",
    "    id = row['ATM_ID']\n",
    "    #id = itt\n",
    "\n",
    "    banks[id] = row\n",
    "\n",
    "# print banks.keys()\n",
    "print \"Number of banks:\", len(banks)"
   ]
  },
  {
   "cell_type": "code",
   "execution_count": 8,
   "metadata": {
    "collapsed": true
   },
   "outputs": [],
   "source": [
    "Y = []\n",
    "X = []\n",
    "for key, value in banks.items():\n",
    "    Y.append(str(value['N_FREQ_ATTACK']))\n",
    "    features = [value[x] for x in bankpropertykeys]\n",
    "    X.append(features)\n",
    "\n",
    "X = np.matrix(X).astype(np.float)\n",
    "\n",
    "Y = np.array(Y)\n",
    "X_train, X_test, y_train, y_test = train_test_split(X, Y, test_size=0.25, random_state=42)\n",
    "\n",
    "\n",
    "clf = MultinomialNB()\n",
    "clf.fit(X_train, y_train)\n",
    "\n",
    "y_predict=[]\n",
    "for x in X_test:\n",
    "    y_predict.append(clf.predict(x)[0])"
   ]
  },
  {
   "cell_type": "code",
   "execution_count": 9,
   "metadata": {},
   "outputs": [
    {
     "name": "stdout",
     "output_type": "stream",
     "text": [
      "Accuracy on test data: 0.92817679558\n",
      "Classification Report\n",
      "              precision    recall  f1-score   support\n",
      "\n",
      "Not Attacked       1.00      0.92      0.96       162\n",
      "    Attacked       0.59      1.00      0.75        19\n",
      "\n",
      " avg / total       0.96      0.93      0.94       181\n",
      "\n"
     ]
    },
    {
     "data": {
      "image/png": "[encoded data removed]",
      "text/plain": [
       "<matplotlib.figure.Figure at 0x10cdf9f10>"
      ]
     },
     "metadata": {},
     "output_type": "display_data"
    }
   ],
   "source": [
    "def plot_confusion_matrix(cm, class_labels, normalize=False, title='Confusion matrix', cmap=plt.cm.Blues):\n",
    "    plt.imshow(cm, interpolation='nearest', cmap=cmap)\n",
    "    plt.title(title)\n",
    "    plt.colorbar()\n",
    "    tick_marks = np.arange(len(class_labels))\n",
    "    plt.xticks(tick_marks, class_labels, rotation=45)\n",
    "    plt.yticks(tick_marks, class_labels)\n",
    "\n",
    "    if normalize:\n",
    "        cm = cm.astype('float') / cm.sum(axis=1)[:, np.newaxis]\n",
    "\n",
    "    thresh = cm.max() / 2.\n",
    "    for i, j in itertools.product(range(cm.shape[0]), range(cm.shape[1])):\n",
    "        plt.text(j, i, cm[i, j],\n",
    "                 horizontalalignment=\"center\",\n",
    "                 color=\"white\" if cm[i, j] > thresh else \"black\")\n",
    "\n",
    "    plt.tight_layout()\n",
    "    plt.ylabel('True label')\n",
    "    plt.xlabel('Predicted label')\n",
    "    \n",
    "class_labels = ['Not Attacked', 'Attacked']\n",
    "\n",
    "print 'Accuracy on test data:', accuracy_score(y_test, y_predict)\n",
    "\n",
    "print 'Classification Report'\n",
    "print classification_report(y_test, y_predict, target_names = class_labels)\n",
    "\n",
    "# Compute confusion matrix\n",
    "cnf_matrix = confusion_matrix(y_test, y_predict)\n",
    "np.set_printoptions(precision=2)\n",
    "\n",
    "# Plot non-normalized confusion matrix\n",
    "plt.figure()\n",
    "plot_confusion_matrix(cnf_matrix, class_labels = class_labels, normalize=False, title='Confusion matrix')\n",
    "\n",
    "plt.show()"
   ]
  },
  {
   "cell_type": "code",
   "execution_count": 20,
   "metadata": {
    "collapsed": true
   },
   "outputs": [],
   "source": [
    "# def dataPointClassify(id,model):\n",
    "#     f = np.array([banks.get(id)[x] for x in bankpropertykeys]).astype(np.float)\n",
    "#     f = f.reshape([1, f.size])\n",
    "#     return model.predict(f)\n",
    "\n",
    "def getProb(id, model):\n",
    "    f = np.array([banks.get(id)[x] for x in bankpropertykeys]).astype(np.float)\n",
    "    f = f.reshape([1, f.size])\n",
    "    #print(f.shape)\n",
    "    return model.predict_proba(f)\n",
    "\n",
    "def show_most_informative_features(feature_names, clf, n=20):\n",
    "    coefs_with_fns = sorted(zip(clf.coef_[0], feature_names))\n",
    "    top = zip(coefs_with_fns[:n], coefs_with_fns[:-(n + 1):-1])\n",
    "    for (coef_1, fn_1), (coef_2, fn_2) in top:\n",
    "        prob_1 = math.pow(10, coef_1)\n",
    "        prob_2 = math.pow(10, coef_2)\n",
    "        print(\"\\t%.4f\\t\\t%.2f\\t%-15s\" % (coef_2, prob_2, fn_2))"
   ]
  },
  {
   "cell_type": "code",
   "execution_count": 21,
   "metadata": {},
   "outputs": [
    {
     "name": "stdout",
     "output_type": "stream",
     "text": [
      "\t-0.4678\t\t0.34\tPolice_Dis     \n",
      "\t-1.0099\t\t0.10\tMWay_Dist      \n",
      "\t-5.8621\t\t0.00\tN_INCOME       \n",
      "\t-6.3765\t\t0.00\tN_UNP_RATE     \n",
      "\t-6.5414\t\t0.00\tN_DENSITY      \n",
      "\t-6.6055\t\t0.00\tN_COM_DENS     \n",
      "\t-6.6429\t\t0.00\tN_AGE          \n",
      "\t-7.2555\t\t0.00\tNUMBER         \n",
      "None\n"
     ]
    }
   ],
   "source": [
    "output = []\n",
    "for key, value in banks.items():\n",
    "    value['PROB_ATTACKED'] = getProb(key,clf)[0,1]\n",
    "    output.append(value)\n",
    "\n",
    "with open('results.csv', 'w') as csvfile:\n",
    "    fieldnames = list(output[0].keys())\n",
    "    writer = csv.DictWriter(csvfile, fieldnames=fieldnames)\n",
    "\n",
    "    writer.writeheader()\n",
    "    for row in output:\n",
    "        writer.writerow(row)\n",
    "\n",
    "print(show_most_informative_features(bankpropertykeys,clf))"
   ]
  }
 ],
 "metadata": {
  "kernelspec": {
   "display_name": "Python 2",
   "language": "python",
   "name": "python2"
  },
  "language_info": {
   "codemirror_mode": {
    "name": "ipython",
    "version": 2
   },
   "file_extension": ".py",
   "mimetype": "text/x-python",
   "name": "python",
   "nbconvert_exporter": "python",
   "pygments_lexer": "ipython2",
   "version": "2.7.9"
  }
 },
 "nbformat": 4,
 "nbformat_minor": 2
}
